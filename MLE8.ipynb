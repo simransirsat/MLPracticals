{
  "nbformat": 4,
  "nbformat_minor": 0,
  "metadata": {
    "colab": {
      "name": "MLE8.ipynb",
      "provenance": [],
      "authorship_tag": "ABX9TyMLclMcjRHccGF1VDAjP9cb",
      "include_colab_link": true
    },
    "kernelspec": {
      "name": "python3",
      "display_name": "Python 3"
    },
    "language_info": {
      "name": "python"
    }
  },
  "cells": [
    {
      "cell_type": "markdown",
      "metadata": {
        "id": "view-in-github",
        "colab_type": "text"
      },
      "source": [
        "<a href=\"https://colab.research.google.com/github/simransirsat/MLPracticals/blob/main/MLE8.ipynb\" target=\"_parent\"><img src=\"https://colab.research.google.com/assets/colab-badge.svg\" alt=\"Open In Colab\"/></a>"
      ]
    },
    {
      "cell_type": "markdown",
      "metadata": {
        "id": "JidFQfdwHRxY"
      },
      "source": [
        "Exp 8A - ANN using Backpropagation"
      ]
    },
    {
      "cell_type": "code",
      "metadata": {
        "id": "PEORbh-RHVnc"
      },
      "source": [
        "import numpy as np"
      ],
      "execution_count": null,
      "outputs": []
    },
    {
      "cell_type": "code",
      "metadata": {
        "id": "XBpB6MyKHeY7"
      },
      "source": [
        "num_inputs = 3\n",
        "num_hidden = 2\n",
        "num_outputs = 2\n",
        "\n",
        "weights = [0.1, 0.5, 0.1, 0.1, 1, 0.6, 0.9, 0.9, 0.4, 0.1]\n",
        "biases = [0.3, 0.2]\n",
        "\n",
        "X = [5, 2, 1]\n",
        "y = [0.1, 0.05]\n",
        "lr = 0.01"
      ],
      "execution_count": null,
      "outputs": []
    },
    {
      "cell_type": "code",
      "metadata": {
        "id": "WvUytDbUHg54"
      },
      "source": [
        "def forward_prop_in(X, weights):\n",
        "\n",
        "    neth1 = X[0] * weights[0] + X[1] * weights[2] + X[2] * weights[4] + biases[0]\n",
        "    neth2 = X[0] * weights[1] + X[1] * weights[3] + X[2] * weights[5] + biases[0]\n",
        "\n",
        "    print(f'neth1 = {X[0]} * {weights[0]} + {X[1]} * {weights[2]} + {X[2]} * {weights[4]} + {biases[0]} = {neth1}')\n",
        "    print(f'neth2 = {X[0]} * {weights[1]} + {X[1]} * {weights[3]} + {X[2]} * {weights[5]} + {biases[0]} = {neth2}')\n",
        "\n",
        "    h1 = 1 / (1 + np.exp(-neth1))\n",
        "    h2 = 1 / (1 + np.exp(-neth2))\n",
        "\n",
        "    print(f'h1 = {h1}')\n",
        "    print(f'h2 = {h2}')\n",
        "\n",
        "    return [h1, h2]"
      ],
      "execution_count": null,
      "outputs": []
    },
    {
      "cell_type": "code",
      "metadata": {
        "id": "VrjkCvliHi0e"
      },
      "source": [
        "def forward_prop_hidden(X, weights):\n",
        "\n",
        "    neto1 = X[0] * weights[6] + X[1] * weights[8] + biases[1]\n",
        "    neto2 = X[0] * weights[7] + X[1] * weights[9] + biases[1]\n",
        "\n",
        "    print(f'neto1 = {X[0]} * {weights[6]} + {X[1]} * {weights[8]} + {biases[1]} = {neto1}')\n",
        "    print(f'neto2 = {X[0]} * {weights[7]} + {X[1]} * {weights[9]} + {biases[1]} = {neto2}')\n",
        "\n",
        "    o1 = 1 / (1 + np.exp(-neto1))\n",
        "    o2 = 1 / (1 + np.exp(-neto2))\n",
        "\n",
        "    print(f'o1 = {o1}')\n",
        "    print(f'o2 = {o2}')\n",
        "\n",
        "    return [o1, o2]"
      ],
      "execution_count": null,
      "outputs": []
    },
    {
      "cell_type": "code",
      "metadata": {
        "id": "pzqLAYTaHlHE"
      },
      "source": [
        "def error(outputs, y):\n",
        "    err = 0.5 * sum([(y[0] - outputs[0]) ** 2, (y[1] - outputs[1]) ** 2])\n",
        "    print(f'Etotal = 0.5 * ({y[0]} - {outputs[0]}) ** 2 + 0.5 * ({y[1]} - {outputs[1]}) ** 2 = {err}')\n",
        "    return err"
      ],
      "execution_count": null,
      "outputs": []
    },
    {
      "cell_type": "code",
      "metadata": {
        "id": "1QKOYOjmHnVw"
      },
      "source": [
        "def back_prop_hidden(delEtotalo1, delEtotalo2, delo1neto1, delo2neto2, weights, h):\n",
        "\n",
        "    delEtotalw7 = delEtotalo1 * delo1neto1 * h[0]\n",
        "    print(f'w7 = {weights[6]}', end='')\n",
        "    weights[6] = weights[6] - lr * delEtotalw7\n",
        "    print(f' - {lr} * {delEtotalw7} = {weights[6]}')\n",
        "\n",
        "    delEtotalw9 = delEtotalo1 * delo1neto1 * h[1]\n",
        "    print(f'w9 = {weights[8]}', end='')\n",
        "    weights[8] = weights[8] - lr * delEtotalw9\n",
        "    print(f' - {lr} * {delEtotalw9} = {weights[8]}')\n",
        "\n",
        "    delEtotalw8 = delEtotalo2 * delo2neto2 * h[0]\n",
        "    print(f'w8 = {weights[7]}', end='')\n",
        "    weights[7] = weights[7] - lr * delEtotalw8\n",
        "    print(f' - {lr} * {delEtotalw8} = {weights[7]}')\n",
        "\n",
        "    delEtotalw10 = delEtotalo2 * delo2neto2 * h[1]\n",
        "    print(f'w10 = {weights[9]}', end='')\n",
        "    weights[9] = weights[9] - lr * delEtotalw10\n",
        "    print(f' - {lr} * {delEtotalw10} = {weights[9]}')"
      ],
      "execution_count": null,
      "outputs": []
    },
    {
      "cell_type": "code",
      "metadata": {
        "id": "3LQ-YFBEHp97"
      },
      "source": [
        "def back_prop_input(delEtotalh1, delEtotalh2, delh1neth1, delh2neth2, weights, h):\n",
        "\n",
        "    delEtotalw1 = delEtotalh1 * delh1neth1 * X[0]\n",
        "    print(f'w1 = {weights[0]}', end='')\n",
        "    weights[0] = weights[0] - lr * delEtotalw1\n",
        "    print(f' - {lr} * {delEtotalw1} = {weights[0]}')\n",
        "\n",
        "    delEtotalw2 = delEtotalh2 * delh2neth2 * X[0]\n",
        "    print(f'w2 = {weights[1]}', end='')\n",
        "    weights[1] = weights[1] - lr * delEtotalw2\n",
        "    print(f' - {lr} * {delEtotalw2} = {weights[1]}')\n",
        "\n",
        "    delEtotalw3 = delEtotalh1 * delh1neth1 * X[1]\n",
        "    print(f'w3 = {weights[2]}', end='')\n",
        "    weights[2] = weights[2] - lr * delEtotalw3\n",
        "    print(f' - {lr} * {delEtotalw3} = {weights[2]}')\n",
        "\n",
        "    delEtotalw4 = delEtotalh2 * delh2neth2 * X[1]\n",
        "    print(f'w4 = {weights[3]}', end='')\n",
        "    weights[3] = weights[3] - lr * delEtotalw4\n",
        "    print(f' - {lr} * {delEtotalw4} = {weights[3]}')\n",
        "\n",
        "    delEtotalw5 = delEtotalh1 * delh1neth1 * X[2]\n",
        "    print(f'w5 = {weights[4]}', end='')\n",
        "    weights[4] = weights[4] - lr * delEtotalw5\n",
        "    print(f' - {lr} * {delEtotalw5} = {weights[4]}')\n",
        "\n",
        "    delEtotalw6 = delEtotalh2 * delh2neth2 * X[2]\n",
        "    print(f'w6 = {weights[5]}', end='')\n",
        "    weights[5] = weights[5] - lr * delEtotalw6\n",
        "    print(f' - {lr} * {delEtotalw6} = {weights[5]}')"
      ],
      "execution_count": null,
      "outputs": []
    },
    {
      "cell_type": "code",
      "metadata": {
        "id": "85UOqCF2Hs0v"
      },
      "source": [
        "def ann(X, weights, biases, y):\n",
        "\n",
        "    h = forward_prop_in(X, weights)\n",
        "    outs = forward_prop_hidden(h, weights)\n",
        "\n",
        "    old_weights = weights.copy()\n",
        "    old_biases = biases.copy()\n",
        "\n",
        "    E = error(outs, y)\n",
        "\n",
        "    delEtotalo1 = outs[0] - y[0]\n",
        "    delEtotalo2 = outs[1] - y[1]\n",
        "\n",
        "    print(f'delEtotalo1 = {outs[0]} - {y[0]} = {delEtotalo1}')\n",
        "    print(f'delEtotalo2 = {outs[1]} - {y[1]} = {delEtotalo2}')\n",
        "\n",
        "    delo1neto1 = outs[0] * (1 - outs[0])\n",
        "    delo2neto2 = outs[1] * (1 - outs[1])\n",
        "\n",
        "    print(f'delo1neto1 = {outs[0]} * (1 - {outs[0]}) = {delo1neto1}')\n",
        "    print(f'delo2neto2 = {outs[1]} * (1 - {outs[1]}) = {delo2neto2}')\n",
        "\n",
        "    delEtotalb2 = delEtotalo1 * delo1neto1 + delEtotalo2 * delo2neto2\n",
        "    print(f'delEtotalb2 = {delEtotalo1} * {delo1neto1} + {delEtotalo2} * {delo2neto2} = {delEtotalb2}')\n",
        "\n",
        "    biases[1] = biases[1] - lr * delEtotalb2\n",
        "    print(f'b2 = {old_biases[1]} - {lr} * {delEtotalb2} = {biases[1]}')\n",
        "\n",
        "    back_prop_hidden(delEtotalo1, delEtotalo2, delo1neto1, delo2neto2, weights, h)\n",
        "\n",
        "    delEtotalh1 = delEtotalo1 * delo1neto1 * old_weights[6] + delEtotalo2 * delo2neto2 * old_weights[7]\n",
        "    print(f'delEtotalh1 = {delEtotalo1} * {delo1neto1} * {old_weights[6]} + {delEtotalo2} * {delo2neto2} * {old_weights[7]} = {delEtotalh1}')\n",
        "\n",
        "    delEtotalh2 = delEtotalo1 * delo1neto1 * old_weights[8] + delEtotalo2 * delo2neto2 * old_weights[9]\n",
        "    print(f'delEtotalh2 = {delEtotalo1} * {delo1neto1} * {old_weights[8]} + {delEtotalo2} * {delo2neto2} * {old_weights[9]} = {delEtotalh2}')\n",
        "\n",
        "    delh1neth1 = h[0] * (1 - h[0])\n",
        "    print(f'delh1neth1 = {h[0]} * (1 - {h[0]}) = {delh1neth1}')\n",
        "\n",
        "    delh2neth2 = h[1] * (1 - h[1])\n",
        "    print(f'delh2neth2 = {h[1]} * (1 - {h[1]}) = {delh2neth2}')\n",
        "\n",
        "    back_prop_input(delEtotalh1, delEtotalh2, delh1neth1, delh2neth2, weights, h)\n",
        "\n",
        "    delEtotalb1 = delEtotalh1 * delh1neth1 + delEtotalh2 * delh2neth2\n",
        "    print(f'delEtotalb1 = {delEtotalh1} * {delh1neth1} + {delEtotalh2} * {delh2neth2} = {delEtotalb1}')\n",
        "\n",
        "    biases[0] = biases[0] - lr * delEtotalb1\n",
        "    print(f'b1 = {old_biases[0]} - {lr} * {delEtotalb1} = {biases[0]}')\n"
      ],
      "execution_count": null,
      "outputs": []
    },
    {
      "cell_type": "code",
      "metadata": {
        "colab": {
          "base_uri": "https://localhost:8080/"
        },
        "id": "TkYK12r_HvsB",
        "outputId": "7e7a01de-4750-4ffd-95c2-20f43e3c56b7"
      },
      "source": [
        "ann(X, weights, biases, y)"
      ],
      "execution_count": null,
      "outputs": [
        {
          "output_type": "stream",
          "text": [
            "neth1 = 5 * 0.1 + 2 * 0.1 + 1 * 1 + 0.3 = 2.0\n",
            "neth2 = 5 * 0.5 + 2 * 0.1 + 1 * 0.6 + 0.3 = 3.6\n",
            "h1 = 0.8807970779778823\n",
            "h2 = 0.973403006423134\n",
            "neto1 = 0.8807970779778823 * 0.9 + 0.973403006423134 * 0.4 + 0.2 = 1.3820785727493476\n",
            "neto2 = 0.8807970779778823 * 0.9 + 0.973403006423134 * 0.1 + 0.2 = 1.0900576708224075\n",
            "o1 = 0.799324620684119\n",
            "o2 = 0.7483925812433982\n",
            "Etotal = 0.5 * (0.1 - 0.799324620684119) ** 2 + 0.5 * (0.05 - 0.7483925812433982) ** 2 = 0.48840356131540175\n",
            "delEtotalo1 = 0.799324620684119 - 0.1 = 0.699324620684119\n",
            "delEtotalo2 = 0.7483925812433982 - 0.05 = 0.6983925812433982\n",
            "delo1neto1 = 0.799324620684119 * (1 - 0.799324620684119) = 0.16040477145230828\n",
            "delo2neto2 = 0.7483925812433982 * (1 - 0.7483925812433982) = 0.1883011255832418\n",
            "delEtotalb2 = 0.699324620684119 * 0.16040477145230828 + 0.6983925812433982 * 0.1883011255832418 = 0.24368311509892582\n",
            "b2 = 0.2 - 0.01 * 0.24368311509892582 = 0.19756316884901076\n",
            "w7 = 0.9 - 0.01 * 0.0988034174645043 = 0.899011965825355\n",
            "w9 = 0.4 - 0.01 * 0.10919148803902315 = 0.3989080851196098\n",
            "w8 = 0.9 - 0.01 * 0.11583195826717753 = 0.8988416804173283\n",
            "w10 = 0.1 - 0.01 * 0.12801038881282586 = 0.09871989611187175\n",
            "delEtotalh1 = 0.699324620684119 * 0.16040477145230828 * 0.9 + 0.6983925812433982 * 0.1883011255832418 * 0.9 = 0.21931480358903324\n",
            "delEtotalh2 = 0.699324620684119 * 0.16040477145230828 * 0.4 + 0.6983925812433982 * 0.1883011255832418 * 0.1 = 0.05802081329543507\n",
            "delh1neth1 = 0.8807970779778823 * (1 - 0.8807970779778823) = 0.10499358540350662\n",
            "delh2neth2 = 0.973403006423134 * (1 - 0.973403006423134) = 0.02588959350953811\n",
            "w1 = 0.1 - 0.01 * 0.1151332378043922 = 0.09884866762195609\n",
            "w2 = 0.5 - 0.01 * 0.007510676356558091 = 0.4999248932364344\n",
            "w3 = 0.1 - 0.01 * 0.04605329512175688 = 0.09953946704878244\n",
            "w4 = 0.1 - 0.01 * 0.0030042705426232366 = 0.09996995729457377\n",
            "w5 = 1 - 0.01 * 0.02302664756087844 = 0.9997697335243912\n",
            "w6 = 0.6 - 0.01 * 0.0015021352713116183 = 0.5999849786472868\n",
            "delEtotalb1 = 0.21931480358903324 * 0.10499358540350662 + 0.05802081329543507 * 0.02588959350953811 = 0.02452878283219006\n",
            "b1 = 0.3 - 0.01 * 0.02452878283219006 = 0.2997547121716781\n"
          ],
          "name": "stdout"
        }
      ]
    }
  ]
}