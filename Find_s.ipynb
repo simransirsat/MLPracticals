{
  "nbformat": 4,
  "nbformat_minor": 0,
  "metadata": {
    "colab": {
      "name": "Find-s.ipynb",
      "provenance": [],
      "include_colab_link": true
    },
    "kernelspec": {
      "name": "python3",
      "display_name": "Python 3"
    },
    "language_info": {
      "name": "python"
    }
  },
  "cells": [
    {
      "cell_type": "markdown",
      "metadata": {
        "id": "view-in-github",
        "colab_type": "text"
      },
      "source": [
        "<a href=\"https://colab.research.google.com/github/simransirsat/MLPracticals/blob/main/Find_s.ipynb\" target=\"_parent\"><img src=\"https://colab.research.google.com/assets/colab-badge.svg\" alt=\"Open In Colab\"/></a>"
      ]
    },
    {
      "cell_type": "code",
      "metadata": {
        "colab": {
          "base_uri": "https://localhost:8080/"
        },
        "id": "avlpYUZjkiNM",
        "outputId": "6f3509de-09e0-45bd-b9af-5b373a2374bb"
      },
      "source": [
        "import pandas as pd\n",
        "import numpy as np\n",
        "from collections import Counter\n",
        " \n",
        "data = pd.read_csv(\"/content/sample_data/find-s - Sheet1.csv\")\n",
        "print(data,\"n\")\n",
        " \n",
        "#making an array of all the attributes\n",
        "d = np.array(data)[:,:-1]\n",
        "print(\"The attributes are: \",d)\n",
        " \n",
        "#segragating the target that has positive and negative examples\n",
        "target = np.array(data)[:,-1]\n",
        "print(\"The target is: \",target)\n",
        " \n",
        "#training function to implement find-s algorithm\n",
        "def train(c,t):\n",
        "    specific_hypothesis = [None]*(np.size(d)-1)\n",
        "    for i, val in enumerate(t):\n",
        "        if val == \"Positive\":\n",
        "            specific_hypothesis = c[i].copy()\n",
        "            break\n",
        "             \n",
        "    for i, val in enumerate(c):\n",
        "        if t[i] == \"Positive\":\n",
        "            for x in range(len(specific_hypothesis)):\n",
        "                if val[x] != specific_hypothesis[x]:\n",
        "                    specific_hypothesis[x] = '?'\n",
        "                else:\n",
        "                    pass\n",
        "                 \n",
        "    return specific_hypothesis\n",
        " \n",
        "#obtaining the final hypothesis\n",
        "print(\"The final hypothesis is:\",train(d,target))\n",
        "\n",
        "print(len(data.Country.unique()),len(data.Car.unique()),len(data.Colour.unique()),len(data.Year.unique()),len(data.Type.unique()))\n",
        "\n",
        "instances= len(data.Country.unique())*len(data.Car.unique())*len(data.Colour.unique())*len(data.Year.unique())*len(data.Type.unique())\n",
        "print(\"Number of Instances: \",instances)\n",
        "concepts=pow(2,instances)\n",
        "print(\"Number of Concepts: \",concepts)\n",
        "syntactically_distinct= (len(data.Country.unique())+2)*(len(data.Car.unique())+2)*(len(data.Colour.unique())+2)*(len(data.Year.unique())+2)*(len(data.Type.unique())+2)\n",
        "print(\"Syntactically Distinct Hypothesis: \",syntactically_distinct)  \n",
        "semantically_distinct = (len(data.Country.unique())+1)*(len(data.Car.unique())+1)*(len(data.Colour.unique())+1)*(len(data.Year.unique())+1)*(len(data.Type.unique())+1)\n",
        "print(\"Semantically Distinct Hypothesis: \",semantically_distinct+1)\n"
      ],
      "execution_count": 17,
      "outputs": [
        {
          "output_type": "stream",
          "text": [
            "  Country       Car Colour  Year     Type   Outcome\n",
            "0   Japan     Honda   Blue  1980  Economy  Positive\n",
            "1   Japan    Toyota  Green  1970   Sports  Negative\n",
            "2   Japan    Toyota   Blue  1990  Economy  Positive\n",
            "3     USA  Chrysler    Red  1980  Economy  Negative\n",
            "4   Japan     Honda  White  1980  Economy  Positive\n",
            "5   Japan    Toyota  Green  1980  Economy  Positive\n",
            "6   Japan     Honda    Red  1980  Economy  Negative n\n",
            "The attributes are:  [['Japan' 'Honda' 'Blue' 1980 'Economy']\n",
            " ['Japan' 'Toyota' 'Green' 1970 'Sports']\n",
            " ['Japan' 'Toyota' 'Blue' 1990 'Economy']\n",
            " ['USA' 'Chrysler' 'Red' 1980 'Economy']\n",
            " ['Japan' 'Honda' 'White' 1980 'Economy']\n",
            " ['Japan' 'Toyota' 'Green' 1980 'Economy']\n",
            " ['Japan' 'Honda' 'Red' 1980 'Economy']]\n",
            "The target is:  ['Positive' 'Negative' 'Positive' 'Negative' 'Positive' 'Positive'\n",
            " 'Negative']\n",
            "The final hypothesis is: ['Japan' '?' '?' '?' 'Economy']\n",
            "2 3 4 3 2\n",
            "Number of Instances:  144\n",
            "Number of Concepts:  22300745198530623141535718272648361505980416\n",
            "Syntactically Distinct Hypothesis:  2400\n",
            "Semantically Distinct Hypothesis:  721\n"
          ],
          "name": "stdout"
        }
      ]
    }
  ]
}