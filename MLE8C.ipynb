{
  "nbformat": 4,
  "nbformat_minor": 0,
  "metadata": {
    "colab": {
      "name": "MLE8C.ipynb",
      "provenance": [],
      "authorship_tag": "ABX9TyPK0Y2Dz1o1t+sPt6i7LWv3",
      "include_colab_link": true
    },
    "kernelspec": {
      "name": "python3",
      "display_name": "Python 3"
    },
    "language_info": {
      "name": "python"
    }
  },
  "cells": [
    {
      "cell_type": "markdown",
      "metadata": {
        "id": "view-in-github",
        "colab_type": "text"
      },
      "source": [
        "<a href=\"https://colab.research.google.com/github/simransirsat/MLPracticals/blob/main/MLE8C.ipynb\" target=\"_parent\"><img src=\"https://colab.research.google.com/assets/colab-badge.svg\" alt=\"Open In Colab\"/></a>"
      ]
    },
    {
      "cell_type": "markdown",
      "metadata": {
        "id": "N5fZQOWJgn4i"
      },
      "source": [
        "\n",
        "Exp 8C - Perceptron Learning - OR, AND, XOR"
      ]
    },
    {
      "cell_type": "code",
      "metadata": {
        "id": "KKx8CtpxfVRK"
      },
      "source": [
        "import numpy as np"
      ],
      "execution_count": null,
      "outputs": []
    },
    {
      "cell_type": "code",
      "metadata": {
        "id": "OUHL8Tjvgquc"
      },
      "source": [
        "data_and =[[0,0,0],\n",
        "        [0,1,0],\n",
        "        [1,0,0],\n",
        "        [1,1,1]]"
      ],
      "execution_count": null,
      "outputs": []
    },
    {
      "cell_type": "code",
      "metadata": {
        "id": "G7OQTJhlgtVE"
      },
      "source": [
        "data_or = [[0,0,0],\n",
        "        [0,1,1],\n",
        "        [1,0,1],\n",
        "        [1,1,1]]"
      ],
      "execution_count": null,
      "outputs": []
    },
    {
      "cell_type": "code",
      "metadata": {
        "id": "BpnrHQL4gt5n"
      },
      "source": [
        "data_xor = [[0,0,0],\n",
        "        [0,1,1],\n",
        "        [1,0,1],\n",
        "        [1,1,0]]"
      ],
      "execution_count": null,
      "outputs": []
    },
    {
      "cell_type": "code",
      "metadata": {
        "id": "2F4Dj5sPgvuQ"
      },
      "source": [
        "b = 0.1 #np.random.rand()\n",
        "w1 = 0.2 #np.random.rand()\n",
        "w2 = 0.7 #np.random.rand()"
      ],
      "execution_count": null,
      "outputs": []
    },
    {
      "cell_type": "code",
      "metadata": {
        "id": "3F_dLyu2gxjv"
      },
      "source": [
        "def act(out, thresh=0.5):\n",
        "  return 0 if out < thresh else 1 "
      ],
      "execution_count": null,
      "outputs": []
    },
    {
      "cell_type": "code",
      "metadata": {
        "id": "8QgeWp9fgzF9"
      },
      "source": [
        "def train(data, w , lr):\n",
        "  lr=round(lr,1)\n",
        "  for row in data:\n",
        "    print(f'row: {row}')\n",
        "    temp = w[0] + (w[1] * row[0]) + (w[2] * row[1])\n",
        "    temp = round(temp,1)\n",
        "    print(f'o = {w[0]} + ({w[1]} * {row[0]}) + ({w[2]} * {row[1]} )= {temp}')\n",
        "    out = act(out=temp)\n",
        "    print(f'out = {out}')\n",
        "    if out != row[-1]:\n",
        "      print('out not equal to row[-1]')\n",
        "      # t = lr * (row[-1] - out)\n",
        "      if row[-1] < out:\n",
        "        t = lr * -1\n",
        "      else:\n",
        "        t = lr\n",
        "      print(f'w3 = {w[0]} + {t} = ',end=' ')\n",
        "      w[0] = w[0] + t\n",
        "      w[0] = round( w[0],1)\n",
        "      print(w[0])\n",
        "      print(f'w1 = {w[1]} + {t} * {row[0]} = ',end=' ')\n",
        "      w[1] = w[1] + (t * row[0] )\n",
        "      w[1] = round( w[1],1)\n",
        "      print(w[1])\n",
        "      print(f'w2 = {w[2]} + {t} * {row[1]} = ',end=' ')\n",
        "      w[2] = w[2] + (t * row[1] )\n",
        "      w[2] = round( w[2],1)\n",
        "      print(w[2])\n",
        "      \n",
        "  return w"
      ],
      "execution_count": null,
      "outputs": []
    },
    {
      "cell_type": "markdown",
      "metadata": {
        "id": "HTFv2yvTg39h"
      },
      "source": [
        "or"
      ]
    },
    {
      "cell_type": "code",
      "metadata": {
        "colab": {
          "base_uri": "https://localhost:8080/"
        },
        "id": "uYhvZHd3g4w4",
        "outputId": "cd7f1324-11f6-4cf8-9c87-46e4a3edb4de"
      },
      "source": [
        "w = train(data = data_or, w = [b,w1,w2], lr=0.1)\n",
        "i = 1\n",
        "while True:\n",
        "  print(f\"epoch:{i}\")\n",
        "  i = i+1\n",
        "  print()\n",
        "  print(w)\n",
        "  last = w.copy()\n",
        "  w = train(data = data_or, w = [b,w1,w2], lr=0.1)\n",
        "  if last == w:\n",
        "    break\n",
        " "
      ],
      "execution_count": null,
      "outputs": [
        {
          "output_type": "stream",
          "text": [
            "row: [0, 0, 0]\n",
            "o = 0.1 + (0.2 * 0) + (0.7 * 0 )= 0.1\n",
            "out = 0\n",
            "row: [0, 1, 1]\n",
            "o = 0.1 + (0.2 * 0) + (0.7 * 1 )= 0.8\n",
            "out = 1\n",
            "row: [1, 0, 1]\n",
            "o = 0.1 + (0.2 * 1) + (0.7 * 0 )= 0.3\n",
            "out = 0\n",
            "out not equal to row[-1]\n",
            "w3 = 0.1 + 0.1 =  0.2\n",
            "w1 = 0.2 + 0.1 * 1 =  0.3\n",
            "w2 = 0.7 + 0.1 * 0 =  0.7\n",
            "row: [1, 1, 1]\n",
            "o = 0.2 + (0.3 * 1) + (0.7 * 1 )= 1.2\n",
            "out = 1\n",
            "epoch:1\n",
            "\n",
            "[0.2, 0.3, 0.7]\n",
            "row: [0, 0, 0]\n",
            "o = 0.1 + (0.2 * 0) + (0.7 * 0 )= 0.1\n",
            "out = 0\n",
            "row: [0, 1, 1]\n",
            "o = 0.1 + (0.2 * 0) + (0.7 * 1 )= 0.8\n",
            "out = 1\n",
            "row: [1, 0, 1]\n",
            "o = 0.1 + (0.2 * 1) + (0.7 * 0 )= 0.3\n",
            "out = 0\n",
            "out not equal to row[-1]\n",
            "w3 = 0.1 + 0.1 =  0.2\n",
            "w1 = 0.2 + 0.1 * 1 =  0.3\n",
            "w2 = 0.7 + 0.1 * 0 =  0.7\n",
            "row: [1, 1, 1]\n",
            "o = 0.2 + (0.3 * 1) + (0.7 * 1 )= 1.2\n",
            "out = 1\n"
          ],
          "name": "stdout"
        }
      ]
    },
    {
      "cell_type": "markdown",
      "metadata": {
        "id": "H6SREMQKg87X"
      },
      "source": [
        "and"
      ]
    },
    {
      "cell_type": "code",
      "metadata": {
        "colab": {
          "base_uri": "https://localhost:8080/"
        },
        "id": "oSjHEhccg-va",
        "outputId": "9bdc18f5-9ff3-4c41-fedd-d4623f124488"
      },
      "source": [
        "w = train(data = data_and, w = [b,w1,w2], lr=0.1)\n",
        "i = 1\n",
        "while True:\n",
        "  print(f\"epoch:{i}\")\n",
        "  i = i+1\n",
        "  print()\n",
        "  print(w)\n",
        "  last = w.copy()\n",
        "  w = train(data = data_and, w = [b,w1,w2], lr=0.1)\n",
        "  if last == w:\n",
        "    break"
      ],
      "execution_count": null,
      "outputs": [
        {
          "output_type": "stream",
          "text": [
            "row: [0, 0, 0]\n",
            "o = 0.1 + (0.2 * 0) + (0.7 * 0 )= 0.1\n",
            "out = 0\n",
            "row: [0, 1, 0]\n",
            "o = 0.1 + (0.2 * 0) + (0.7 * 1 )= 0.8\n",
            "out = 1\n",
            "out not equal to row[-1]\n",
            "w3 = 0.1 + -0.1 =  0.0\n",
            "w1 = 0.2 + -0.1 * 0 =  0.2\n",
            "w2 = 0.7 + -0.1 * 1 =  0.6\n",
            "row: [1, 0, 0]\n",
            "o = 0.0 + (0.2 * 1) + (0.6 * 0 )= 0.2\n",
            "out = 0\n",
            "row: [1, 1, 1]\n",
            "o = 0.0 + (0.2 * 1) + (0.6 * 1 )= 0.8\n",
            "out = 1\n",
            "epoch:1\n",
            "\n",
            "[0.0, 0.2, 0.6]\n",
            "row: [0, 0, 0]\n",
            "o = 0.1 + (0.2 * 0) + (0.7 * 0 )= 0.1\n",
            "out = 0\n",
            "row: [0, 1, 0]\n",
            "o = 0.1 + (0.2 * 0) + (0.7 * 1 )= 0.8\n",
            "out = 1\n",
            "out not equal to row[-1]\n",
            "w3 = 0.1 + -0.1 =  0.0\n",
            "w1 = 0.2 + -0.1 * 0 =  0.2\n",
            "w2 = 0.7 + -0.1 * 1 =  0.6\n",
            "row: [1, 0, 0]\n",
            "o = 0.0 + (0.2 * 1) + (0.6 * 0 )= 0.2\n",
            "out = 0\n",
            "row: [1, 1, 1]\n",
            "o = 0.0 + (0.2 * 1) + (0.6 * 1 )= 0.8\n",
            "out = 1\n"
          ],
          "name": "stdout"
        }
      ]
    },
    {
      "cell_type": "markdown",
      "metadata": {
        "id": "7VPmvMU7hDk4"
      },
      "source": [
        "xor"
      ]
    },
    {
      "cell_type": "code",
      "metadata": {
        "colab": {
          "base_uri": "https://localhost:8080/"
        },
        "id": "g0aA106AhE0b",
        "outputId": "08bf1236-2119-4076-be95-abdaaa2284ed"
      },
      "source": [
        "w = train(data = data_xor, w = [b,w1,w2], lr=0.1)\n",
        "i = 1\n",
        "while i<5:\n",
        "  print(f\"epoch:{i}\")\n",
        "  i = i+1\n",
        "  print()\n",
        "  print(w)\n",
        "  last = w.copy()\n",
        "  w = train(data = data_xor, w = [b,w1,w2], lr=0.1)\n",
        "  if last == w:\n",
        "    break"
      ],
      "execution_count": null,
      "outputs": [
        {
          "output_type": "stream",
          "text": [
            "row: [0, 0, 0]\n",
            "o = 0.1 + (0.2 * 0) + (0.7 * 0 )= 0.1\n",
            "out = 0\n",
            "row: [0, 1, 1]\n",
            "o = 0.1 + (0.2 * 0) + (0.7 * 1 )= 0.8\n",
            "out = 1\n",
            "row: [1, 0, 1]\n",
            "o = 0.1 + (0.2 * 1) + (0.7 * 0 )= 0.3\n",
            "out = 0\n",
            "out not equal to row[-1]\n",
            "w3 = 0.1 + 0.1 =  0.2\n",
            "w1 = 0.2 + 0.1 * 1 =  0.3\n",
            "w2 = 0.7 + 0.1 * 0 =  0.7\n",
            "row: [1, 1, 0]\n",
            "o = 0.2 + (0.3 * 1) + (0.7 * 1 )= 1.2\n",
            "out = 1\n",
            "out not equal to row[-1]\n",
            "w3 = 0.2 + -0.1 =  0.1\n",
            "w1 = 0.3 + -0.1 * 1 =  0.2\n",
            "w2 = 0.7 + -0.1 * 1 =  0.6\n",
            "epoch:1\n",
            "\n",
            "[0.1, 0.2, 0.6]\n",
            "row: [0, 0, 0]\n",
            "o = 0.1 + (0.2 * 0) + (0.7 * 0 )= 0.1\n",
            "out = 0\n",
            "row: [0, 1, 1]\n",
            "o = 0.1 + (0.2 * 0) + (0.7 * 1 )= 0.8\n",
            "out = 1\n",
            "row: [1, 0, 1]\n",
            "o = 0.1 + (0.2 * 1) + (0.7 * 0 )= 0.3\n",
            "out = 0\n",
            "out not equal to row[-1]\n",
            "w3 = 0.1 + 0.1 =  0.2\n",
            "w1 = 0.2 + 0.1 * 1 =  0.3\n",
            "w2 = 0.7 + 0.1 * 0 =  0.7\n",
            "row: [1, 1, 0]\n",
            "o = 0.2 + (0.3 * 1) + (0.7 * 1 )= 1.2\n",
            "out = 1\n",
            "out not equal to row[-1]\n",
            "w3 = 0.2 + -0.1 =  0.1\n",
            "w1 = 0.3 + -0.1 * 1 =  0.2\n",
            "w2 = 0.7 + -0.1 * 1 =  0.6\n"
          ],
          "name": "stdout"
        }
      ]
    },
    {
      "cell_type": "code",
      "metadata": {
        "id": "htSwoh-phG6o"
      },
      "source": [
        ""
      ],
      "execution_count": null,
      "outputs": []
    }
  ]
}