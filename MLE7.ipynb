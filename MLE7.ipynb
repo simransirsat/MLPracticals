{
  "nbformat": 4,
  "nbformat_minor": 0,
  "metadata": {
    "colab": {
      "name": "MLE7.ipynb",
      "provenance": [],
      "authorship_tag": "ABX9TyN2ik8pyhUynY1gaZf/dYSD",
      "include_colab_link": true
    },
    "kernelspec": {
      "name": "python3",
      "display_name": "Python 3"
    },
    "language_info": {
      "name": "python"
    }
  },
  "cells": [
    {
      "cell_type": "markdown",
      "metadata": {
        "id": "view-in-github",
        "colab_type": "text"
      },
      "source": [
        "<a href=\"https://colab.research.google.com/github/simransirsat/MLPracticals/blob/main/MLE7.ipynb\" target=\"_parent\"><img src=\"https://colab.research.google.com/assets/colab-badge.svg\" alt=\"Open In Colab\"/></a>"
      ]
    },
    {
      "cell_type": "code",
      "metadata": {
        "id": "JV9PW1gGfPl3"
      },
      "source": [
        "%reload_ext autoreload\n",
        "%autoreload 2\n",
        "%matplotlib inline"
      ],
      "execution_count": null,
      "outputs": []
    },
    {
      "cell_type": "code",
      "metadata": {
        "id": "1OlVPW1hfben"
      },
      "source": [
        "import pandas as pd\n",
        "import seaborn as sns\n",
        "df=pd.read_csv('/content/sample_data/textclass.csv', encoding='latin')"
      ],
      "execution_count": null,
      "outputs": []
    },
    {
      "cell_type": "code",
      "metadata": {
        "colab": {
          "base_uri": "https://localhost:8080/",
          "height": 424
        },
        "id": "xXEt6Cstfou_",
        "outputId": "fa7d7414-ed6b-4bab-f29e-1e50b7f5df07"
      },
      "source": [
        "df"
      ],
      "execution_count": null,
      "outputs": [
        {
          "output_type": "execute_result",
          "data": {
            "text/html": [
              "<div>\n",
              "<style scoped>\n",
              "    .dataframe tbody tr th:only-of-type {\n",
              "        vertical-align: middle;\n",
              "    }\n",
              "\n",
              "    .dataframe tbody tr th {\n",
              "        vertical-align: top;\n",
              "    }\n",
              "\n",
              "    .dataframe thead th {\n",
              "        text-align: right;\n",
              "    }\n",
              "</style>\n",
              "<table border=\"1\" class=\"dataframe\">\n",
              "  <thead>\n",
              "    <tr style=\"text-align: right;\">\n",
              "      <th></th>\n",
              "      <th>text</th>\n",
              "      <th>target</th>\n",
              "    </tr>\n",
              "  </thead>\n",
              "  <tbody>\n",
              "    <tr>\n",
              "      <th>0</th>\n",
              "      <td>Go until jurong point, crazy.. Available only ...</td>\n",
              "      <td>0</td>\n",
              "    </tr>\n",
              "    <tr>\n",
              "      <th>1</th>\n",
              "      <td>Ok lar... Joking wif u oni...</td>\n",
              "      <td>0</td>\n",
              "    </tr>\n",
              "    <tr>\n",
              "      <th>2</th>\n",
              "      <td>Free entry in 2 a wkly comp to win FA Cup fina...</td>\n",
              "      <td>1</td>\n",
              "    </tr>\n",
              "    <tr>\n",
              "      <th>3</th>\n",
              "      <td>U dun say so early hor... U c already then say...</td>\n",
              "      <td>0</td>\n",
              "    </tr>\n",
              "    <tr>\n",
              "      <th>4</th>\n",
              "      <td>Nah I don't think he goes to usf, he lives aro...</td>\n",
              "      <td>0</td>\n",
              "    </tr>\n",
              "    <tr>\n",
              "      <th>...</th>\n",
              "      <td>...</td>\n",
              "      <td>...</td>\n",
              "    </tr>\n",
              "    <tr>\n",
              "      <th>5567</th>\n",
              "      <td>This is the 2nd time we have tried 2 contact u...</td>\n",
              "      <td>1</td>\n",
              "    </tr>\n",
              "    <tr>\n",
              "      <th>5568</th>\n",
              "      <td>Will Ì_ b going to esplanade fr home?</td>\n",
              "      <td>0</td>\n",
              "    </tr>\n",
              "    <tr>\n",
              "      <th>5569</th>\n",
              "      <td>Pity, * was in mood for that. So...any other s...</td>\n",
              "      <td>0</td>\n",
              "    </tr>\n",
              "    <tr>\n",
              "      <th>5570</th>\n",
              "      <td>The guy did some bitching but I acted like i'd...</td>\n",
              "      <td>0</td>\n",
              "    </tr>\n",
              "    <tr>\n",
              "      <th>5571</th>\n",
              "      <td>Rofl. Its true to its name</td>\n",
              "      <td>0</td>\n",
              "    </tr>\n",
              "  </tbody>\n",
              "</table>\n",
              "<p>5572 rows × 2 columns</p>\n",
              "</div>"
            ],
            "text/plain": [
              "                                                   text  target\n",
              "0     Go until jurong point, crazy.. Available only ...       0\n",
              "1                         Ok lar... Joking wif u oni...       0\n",
              "2     Free entry in 2 a wkly comp to win FA Cup fina...       1\n",
              "3     U dun say so early hor... U c already then say...       0\n",
              "4     Nah I don't think he goes to usf, he lives aro...       0\n",
              "...                                                 ...     ...\n",
              "5567  This is the 2nd time we have tried 2 contact u...       1\n",
              "5568              Will Ì_ b going to esplanade fr home?       0\n",
              "5569  Pity, * was in mood for that. So...any other s...       0\n",
              "5570  The guy did some bitching but I acted like i'd...       0\n",
              "5571                         Rofl. Its true to its name       0\n",
              "\n",
              "[5572 rows x 2 columns]"
            ]
          },
          "metadata": {
            "tags": []
          },
          "execution_count": 24
        }
      ]
    },
    {
      "cell_type": "code",
      "metadata": {
        "id": "0XI1m2GjfrGD"
      },
      "source": [
        "df=df[['text','target']]"
      ],
      "execution_count": null,
      "outputs": []
    },
    {
      "cell_type": "code",
      "metadata": {
        "id": "CkYRcl0Tfs_E"
      },
      "source": [
        "df=df.sample(frac=1)\n",
        "df=df[0:5000]\n",
        "df.reset_index(drop=True,inplace=True)"
      ],
      "execution_count": null,
      "outputs": []
    },
    {
      "cell_type": "code",
      "metadata": {
        "colab": {
          "base_uri": "https://localhost:8080/",
          "height": 424
        },
        "id": "SeIgvByFfu8I",
        "outputId": "8a38a779-e9e2-40b0-dd81-5292ac8a4378"
      },
      "source": [
        "df"
      ],
      "execution_count": null,
      "outputs": [
        {
          "output_type": "execute_result",
          "data": {
            "text/html": [
              "<div>\n",
              "<style scoped>\n",
              "    .dataframe tbody tr th:only-of-type {\n",
              "        vertical-align: middle;\n",
              "    }\n",
              "\n",
              "    .dataframe tbody tr th {\n",
              "        vertical-align: top;\n",
              "    }\n",
              "\n",
              "    .dataframe thead th {\n",
              "        text-align: right;\n",
              "    }\n",
              "</style>\n",
              "<table border=\"1\" class=\"dataframe\">\n",
              "  <thead>\n",
              "    <tr style=\"text-align: right;\">\n",
              "      <th></th>\n",
              "      <th>text</th>\n",
              "      <th>target</th>\n",
              "    </tr>\n",
              "  </thead>\n",
              "  <tbody>\n",
              "    <tr>\n",
              "      <th>0</th>\n",
              "      <td>I'm reading the text i just sent you. Its mean...</td>\n",
              "      <td>0</td>\n",
              "    </tr>\n",
              "    <tr>\n",
              "      <th>1</th>\n",
              "      <td>FreeMsg: Hey - I'm Buffy. 25 and love to satis...</td>\n",
              "      <td>1</td>\n",
              "    </tr>\n",
              "    <tr>\n",
              "      <th>2</th>\n",
              "      <td>Wait  &amp;lt;#&amp;gt;  min..</td>\n",
              "      <td>0</td>\n",
              "    </tr>\n",
              "    <tr>\n",
              "      <th>3</th>\n",
              "      <td>Hi, Mobile no.  &amp;lt;#&amp;gt;  has added you in th...</td>\n",
              "      <td>0</td>\n",
              "    </tr>\n",
              "    <tr>\n",
              "      <th>4</th>\n",
              "      <td>True. Its easier with her here.</td>\n",
              "      <td>0</td>\n",
              "    </tr>\n",
              "    <tr>\n",
              "      <th>...</th>\n",
              "      <td>...</td>\n",
              "      <td>...</td>\n",
              "    </tr>\n",
              "    <tr>\n",
              "      <th>4995</th>\n",
              "      <td>07732584351 - Rodger Burns - MSG = We tried to...</td>\n",
              "      <td>1</td>\n",
              "    </tr>\n",
              "    <tr>\n",
              "      <th>4996</th>\n",
              "      <td>Carlos says we can pick up from him later so y...</td>\n",
              "      <td>0</td>\n",
              "    </tr>\n",
              "    <tr>\n",
              "      <th>4997</th>\n",
              "      <td>Any pain on urination any thing else?</td>\n",
              "      <td>0</td>\n",
              "    </tr>\n",
              "    <tr>\n",
              "      <th>4998</th>\n",
              "      <td>U in town alone?</td>\n",
              "      <td>0</td>\n",
              "    </tr>\n",
              "    <tr>\n",
              "      <th>4999</th>\n",
              "      <td>Good Morning my Dear........... Have a great &amp;...</td>\n",
              "      <td>0</td>\n",
              "    </tr>\n",
              "  </tbody>\n",
              "</table>\n",
              "<p>5000 rows × 2 columns</p>\n",
              "</div>"
            ],
            "text/plain": [
              "                                                   text  target\n",
              "0     I'm reading the text i just sent you. Its mean...       0\n",
              "1     FreeMsg: Hey - I'm Buffy. 25 and love to satis...       1\n",
              "2                                Wait  &lt;#&gt;  min..       0\n",
              "3     Hi, Mobile no.  &lt;#&gt;  has added you in th...       0\n",
              "4                       True. Its easier with her here.       0\n",
              "...                                                 ...     ...\n",
              "4995  07732584351 - Rodger Burns - MSG = We tried to...       1\n",
              "4996  Carlos says we can pick up from him later so y...       0\n",
              "4997              Any pain on urination any thing else?       0\n",
              "4998                                   U in town alone?       0\n",
              "4999  Good Morning my Dear........... Have a great &...       0\n",
              "\n",
              "[5000 rows x 2 columns]"
            ]
          },
          "metadata": {
            "tags": []
          },
          "execution_count": 27
        }
      ]
    },
    {
      "cell_type": "code",
      "metadata": {
        "colab": {
          "base_uri": "https://localhost:8080/"
        },
        "id": "e4mtVv2Qfw6d",
        "outputId": "44fc9fc0-495f-4e4d-8559-0c0828fa9ff8"
      },
      "source": [
        "df.target.value_counts()"
      ],
      "execution_count": null,
      "outputs": [
        {
          "output_type": "execute_result",
          "data": {
            "text/plain": [
              "0    4321\n",
              "1     679\n",
              "Name: target, dtype: int64"
            ]
          },
          "metadata": {
            "tags": []
          },
          "execution_count": 28
        }
      ]
    },
    {
      "cell_type": "code",
      "metadata": {
        "colab": {
          "base_uri": "https://localhost:8080/"
        },
        "id": "6LqqfHB2fdT_",
        "outputId": "1ca4dd6a-3afa-4fbe-9e5a-0be2d86c6a06"
      },
      "source": [
        "import string\n",
        "import nltk\n",
        "import re\n",
        "from nltk.corpus import stopwords\n",
        "nltk.download('stopwords')\n",
        "from nltk.stem.porter import PorterStemmer\n",
        "import re\n",
        "ps = PorterStemmer()\n",
        "from nltk.tokenize import word_tokenize\n",
        "from nltk.corpus import stopwords\n",
        "review_lines = list()\n",
        "lines=df['text'].values.tolist()\n",
        "nltk.download('punkt')"
      ],
      "execution_count": null,
      "outputs": [
        {
          "output_type": "stream",
          "text": [
            "[nltk_data] Downloading package stopwords to /root/nltk_data...\n",
            "[nltk_data]   Package stopwords is already up-to-date!\n",
            "[nltk_data] Downloading package punkt to /root/nltk_data...\n",
            "[nltk_data]   Package punkt is already up-to-date!\n"
          ],
          "name": "stdout"
        },
        {
          "output_type": "execute_result",
          "data": {
            "text/plain": [
              "True"
            ]
          },
          "metadata": {
            "tags": []
          },
          "execution_count": 29
        }
      ]
    },
    {
      "cell_type": "markdown",
      "metadata": {
        "id": "zE9AnJ7egROh"
      },
      "source": [
        "0 -> Ham 1 -> Spam"
      ]
    },
    {
      "cell_type": "code",
      "metadata": {
        "id": "lqwiiwV1fyaQ"
      },
      "source": [
        "for line in lines:\n",
        "  line = re.sub(r'^https?:\\/\\/.*[\\r\\n]*',' ',line)\n",
        "  tokens =word_tokenize(line)\n",
        "\n",
        "# convert to Lower case \n",
        "  tokens = [w.lower() for w in tokens]\n",
        "\n",
        "# remove punctuation from each word \n",
        "  table = str.maketrans (\" \",\" \", string.punctuation)\n",
        "\n",
        "  stripped = [w.translate(table) for w in tokens] # remove remaining tokens that are not alphabetic words \n",
        "  words=[word for word in stripped if word.isalpha()] # filter out stop words \n",
        "  stop_words = set (stopwords.words ('english')) \n",
        "  words = [ps.stem(w) for w in words if not w in stopwords.words('english') ]\n",
        "  words=\" \".join(words)\n",
        "  review_lines.append(words)"
      ],
      "execution_count": null,
      "outputs": []
    },
    {
      "cell_type": "code",
      "metadata": {
        "id": "R0PC8aI1f0jQ"
      },
      "source": [
        "Y=df['target'].values.tolist()"
      ],
      "execution_count": null,
      "outputs": []
    },
    {
      "cell_type": "code",
      "metadata": {
        "colab": {
          "base_uri": "https://localhost:8080/"
        },
        "id": "2rTJ1WFBf3d0",
        "outputId": "e8dc4ac3-404c-4bb6-9173-567f3f883fb0"
      },
      "source": [
        "review_lines[100:110]"
      ],
      "execution_count": null,
      "outputs": [
        {
          "output_type": "execute_result",
          "data": {
            "text/plain": [
              "['helloooo wake sweet morn welcom enjoy day full joy gud mrng',\n",
              " 'free week nokia tone ur mob everi week txt nokia get txting tell ur mate zed pobox',\n",
              " 'join today formallypl keep prayingwil talk later',\n",
              " 'callsmessagesmiss call',\n",
              " 'sound great im go sleep good night',\n",
              " 'urgent attempt contact u prize yesterday still await collect claim call',\n",
              " 'mm way railway',\n",
              " 'get chicken broth want ramen unless nt know',\n",
              " 'dont know exactli could ask chechi',\n",
              " 'anyth specif regard jaklin idk fuck']"
            ]
          },
          "metadata": {
            "tags": []
          },
          "execution_count": 32
        }
      ]
    },
    {
      "cell_type": "code",
      "metadata": {
        "id": "We80HmBqf5a_"
      },
      "source": [
        "from sklearn.model_selection import train_test_split\n",
        "features_train, features_test, labels_train, labels_test = train_test_split(review_lines, Y, test_size=0.2, random_state=10)"
      ],
      "execution_count": null,
      "outputs": []
    },
    {
      "cell_type": "code",
      "metadata": {
        "id": "MakcknK6f7l3"
      },
      "source": [
        "from sklearn.feature_extraction.text import TfidfVectorizer\n",
        "vectorizer = TfidfVectorizer( max_df=0.5) #\n",
        "features_train = vectorizer.fit_transform(features_train)\n",
        "features_test = vectorizer.transform(features_test)"
      ],
      "execution_count": null,
      "outputs": []
    },
    {
      "cell_type": "code",
      "metadata": {
        "colab": {
          "base_uri": "https://localhost:8080/"
        },
        "id": "7xRuJX2Wf9Qh",
        "outputId": "11569777-4286-43ba-c30d-24b209b37906"
      },
      "source": [
        "vocabulary = vectorizer.get_feature_names()\n",
        "vocabulary[10:20]"
      ],
      "execution_count": null,
      "outputs": [
        {
          "output_type": "execute_result",
          "data": {
            "text/plain": [
              "['aberdeen',\n",
              " 'abi',\n",
              " 'abiola',\n",
              " 'abj',\n",
              " 'abl',\n",
              " 'abnorm',\n",
              " 'abroad',\n",
              " 'absolut',\n",
              " 'abstract',\n",
              " 'abt']"
            ]
          },
          "metadata": {
            "tags": []
          },
          "execution_count": 35
        }
      ]
    },
    {
      "cell_type": "code",
      "metadata": {
        "colab": {
          "base_uri": "https://localhost:8080/"
        },
        "id": "iOJPKcoZf-0N",
        "outputId": "0a78cade-8fe3-4d9d-9e87-4bf96ab48df8"
      },
      "source": [
        "labels_train[0:10]"
      ],
      "execution_count": null,
      "outputs": [
        {
          "output_type": "execute_result",
          "data": {
            "text/plain": [
              "[0, 0, 0, 0, 0, 0, 0, 0, 0, 0]"
            ]
          },
          "metadata": {
            "tags": []
          },
          "execution_count": 36
        }
      ]
    },
    {
      "cell_type": "markdown",
      "metadata": {
        "id": "X8uCP2GdgUC1"
      },
      "source": [
        "Sklearn"
      ]
    },
    {
      "cell_type": "code",
      "metadata": {
        "colab": {
          "base_uri": "https://localhost:8080/"
        },
        "id": "EI4jfzdTgAVl",
        "outputId": "cf88365d-da5e-42ed-adef-bb66c500d5ba"
      },
      "source": [
        "from sklearn.naive_bayes import GaussianNB\n",
        "from time import time\n",
        "\n",
        "model = GaussianNB()\n",
        "model.fit(features_train.todense(), labels_train)\n",
        "\n",
        "score_train = model.score(features_train.todense(), labels_train)\n",
        "\n",
        "\n",
        "score_test = model.score(features_test.todense(), labels_test)\n",
        "\n",
        "print(\"Train set score: \", score_train)\n",
        "print(\"Test set score: \", score_test)"
      ],
      "execution_count": null,
      "outputs": [
        {
          "output_type": "stream",
          "text": [
            "Train set score:  0.93425\n",
            "Test set score:  0.872\n"
          ],
          "name": "stdout"
        }
      ]
    },
    {
      "cell_type": "code",
      "metadata": {
        "colab": {
          "base_uri": "https://localhost:8080/"
        },
        "id": "UGK0iOdKgCR_",
        "outputId": "55594b44-536d-46e6-a499-706e76ab6c2d"
      },
      "source": [
        "from sklearn.naive_bayes import MultinomialNB\n",
        "from time import time\n",
        "\n",
        "model1 = MultinomialNB()\n",
        "model1.fit(features_train, labels_train)\n",
        "\n",
        "score_train = model1.score(features_train, labels_train)\n",
        "\n",
        "\n",
        "score_test = model1.score(features_test, labels_test)\n",
        "\n",
        "print(\"Train set score: \", score_train)\n",
        "print(\"Test set score: \", score_test)"
      ],
      "execution_count": null,
      "outputs": [
        {
          "output_type": "stream",
          "text": [
            "Train set score:  0.9725\n",
            "Test set score:  0.964\n"
          ],
          "name": "stdout"
        }
      ]
    },
    {
      "cell_type": "code",
      "metadata": {
        "id": "a8IXqyINgEB0"
      },
      "source": [
        "corpus=['SALE SALE','i miss you','Hello I am your friend','i am feeling nice','hahaha funny','feeling terrible']\n",
        "_corpus = vectorizer.transform(corpus).toarray()\n",
        "predict=model.predict(_corpus)"
      ],
      "execution_count": null,
      "outputs": []
    },
    {
      "cell_type": "code",
      "metadata": {
        "colab": {
          "base_uri": "https://localhost:8080/"
        },
        "id": "LtkrXhEHgG_h",
        "outputId": "ddb0e436-4db4-4aff-ed23-3a4903844497"
      },
      "source": [
        "predict"
      ],
      "execution_count": null,
      "outputs": [
        {
          "output_type": "execute_result",
          "data": {
            "text/plain": [
              "array([1, 1, 0, 0, 1, 1])"
            ]
          },
          "metadata": {
            "tags": []
          },
          "execution_count": 40
        }
      ]
    }
  ]
}