{
  "nbformat": 4,
  "nbformat_minor": 0,
  "metadata": {
    "colab": {
      "name": "DecisionTreeClassifier.ipynb",
      "provenance": [],
      "collapsed_sections": [],
      "authorship_tag": "ABX9TyPw2GA3bInVBdyijCKghs9F",
      "include_colab_link": true
    },
    "kernelspec": {
      "name": "python3",
      "display_name": "Python 3"
    },
    "language_info": {
      "name": "python"
    }
  },
  "cells": [
    {
      "cell_type": "markdown",
      "metadata": {
        "id": "view-in-github",
        "colab_type": "text"
      },
      "source": [
        "<a href=\"https://colab.research.google.com/github/simransirsat/MLPracticals/blob/main/DecisionTreeClassifier.ipynb\" target=\"_parent\"><img src=\"https://colab.research.google.com/assets/colab-badge.svg\" alt=\"Open In Colab\"/></a>"
      ]
    },
    {
      "cell_type": "code",
      "metadata": {
        "id": "Xc31_SgvQ075"
      },
      "source": [
        "import pandas as pd"
      ],
      "execution_count": 22,
      "outputs": []
    },
    {
      "cell_type": "code",
      "metadata": {
        "id": "pCf7L-qjQ3bN"
      },
      "source": [
        "df=pd.read_csv('/content/sample_data/heart.csv')"
      ],
      "execution_count": 23,
      "outputs": []
    },
    {
      "cell_type": "code",
      "metadata": {
        "id": "V24V3O9VQ7Gv"
      },
      "source": [
        "X=df[df.columns[0:-1]]\n",
        "y=df[df.columns[-1]]"
      ],
      "execution_count": 24,
      "outputs": []
    },
    {
      "cell_type": "code",
      "metadata": {
        "colab": {
          "base_uri": "https://localhost:8080/",
          "height": 439
        },
        "id": "tTFMTY1mQ9By",
        "outputId": "9c53ca47-6d63-4d08-c5d3-da9e3f6ebce3"
      },
      "source": [
        "X"
      ],
      "execution_count": 25,
      "outputs": [
        {
          "output_type": "execute_result",
          "data": {
            "text/html": [
              "<div>\n",
              "<style scoped>\n",
              "    .dataframe tbody tr th:only-of-type {\n",
              "        vertical-align: middle;\n",
              "    }\n",
              "\n",
              "    .dataframe tbody tr th {\n",
              "        vertical-align: top;\n",
              "    }\n",
              "\n",
              "    .dataframe thead th {\n",
              "        text-align: right;\n",
              "    }\n",
              "</style>\n",
              "<table border=\"1\" class=\"dataframe\">\n",
              "  <thead>\n",
              "    <tr style=\"text-align: right;\">\n",
              "      <th></th>\n",
              "      <th>age</th>\n",
              "      <th>sex</th>\n",
              "      <th>cp</th>\n",
              "      <th>trtbps</th>\n",
              "      <th>chol</th>\n",
              "      <th>fbs</th>\n",
              "      <th>restecg</th>\n",
              "      <th>thalachh</th>\n",
              "      <th>exng</th>\n",
              "      <th>oldpeak</th>\n",
              "      <th>slp</th>\n",
              "      <th>caa</th>\n",
              "      <th>thall</th>\n",
              "    </tr>\n",
              "  </thead>\n",
              "  <tbody>\n",
              "    <tr>\n",
              "      <th>0</th>\n",
              "      <td>63</td>\n",
              "      <td>1</td>\n",
              "      <td>3</td>\n",
              "      <td>145</td>\n",
              "      <td>233</td>\n",
              "      <td>1</td>\n",
              "      <td>0</td>\n",
              "      <td>150</td>\n",
              "      <td>0</td>\n",
              "      <td>2.3</td>\n",
              "      <td>0</td>\n",
              "      <td>0</td>\n",
              "      <td>1</td>\n",
              "    </tr>\n",
              "    <tr>\n",
              "      <th>1</th>\n",
              "      <td>37</td>\n",
              "      <td>1</td>\n",
              "      <td>2</td>\n",
              "      <td>130</td>\n",
              "      <td>250</td>\n",
              "      <td>0</td>\n",
              "      <td>1</td>\n",
              "      <td>187</td>\n",
              "      <td>0</td>\n",
              "      <td>3.5</td>\n",
              "      <td>0</td>\n",
              "      <td>0</td>\n",
              "      <td>2</td>\n",
              "    </tr>\n",
              "    <tr>\n",
              "      <th>2</th>\n",
              "      <td>41</td>\n",
              "      <td>0</td>\n",
              "      <td>1</td>\n",
              "      <td>130</td>\n",
              "      <td>204</td>\n",
              "      <td>0</td>\n",
              "      <td>0</td>\n",
              "      <td>172</td>\n",
              "      <td>0</td>\n",
              "      <td>1.4</td>\n",
              "      <td>2</td>\n",
              "      <td>0</td>\n",
              "      <td>2</td>\n",
              "    </tr>\n",
              "    <tr>\n",
              "      <th>3</th>\n",
              "      <td>56</td>\n",
              "      <td>1</td>\n",
              "      <td>1</td>\n",
              "      <td>120</td>\n",
              "      <td>236</td>\n",
              "      <td>0</td>\n",
              "      <td>1</td>\n",
              "      <td>178</td>\n",
              "      <td>0</td>\n",
              "      <td>0.8</td>\n",
              "      <td>2</td>\n",
              "      <td>0</td>\n",
              "      <td>2</td>\n",
              "    </tr>\n",
              "    <tr>\n",
              "      <th>4</th>\n",
              "      <td>57</td>\n",
              "      <td>0</td>\n",
              "      <td>0</td>\n",
              "      <td>120</td>\n",
              "      <td>354</td>\n",
              "      <td>0</td>\n",
              "      <td>1</td>\n",
              "      <td>163</td>\n",
              "      <td>1</td>\n",
              "      <td>0.6</td>\n",
              "      <td>2</td>\n",
              "      <td>0</td>\n",
              "      <td>2</td>\n",
              "    </tr>\n",
              "    <tr>\n",
              "      <th>...</th>\n",
              "      <td>...</td>\n",
              "      <td>...</td>\n",
              "      <td>...</td>\n",
              "      <td>...</td>\n",
              "      <td>...</td>\n",
              "      <td>...</td>\n",
              "      <td>...</td>\n",
              "      <td>...</td>\n",
              "      <td>...</td>\n",
              "      <td>...</td>\n",
              "      <td>...</td>\n",
              "      <td>...</td>\n",
              "      <td>...</td>\n",
              "    </tr>\n",
              "    <tr>\n",
              "      <th>298</th>\n",
              "      <td>57</td>\n",
              "      <td>0</td>\n",
              "      <td>0</td>\n",
              "      <td>140</td>\n",
              "      <td>241</td>\n",
              "      <td>0</td>\n",
              "      <td>1</td>\n",
              "      <td>123</td>\n",
              "      <td>1</td>\n",
              "      <td>0.2</td>\n",
              "      <td>1</td>\n",
              "      <td>0</td>\n",
              "      <td>3</td>\n",
              "    </tr>\n",
              "    <tr>\n",
              "      <th>299</th>\n",
              "      <td>45</td>\n",
              "      <td>1</td>\n",
              "      <td>3</td>\n",
              "      <td>110</td>\n",
              "      <td>264</td>\n",
              "      <td>0</td>\n",
              "      <td>1</td>\n",
              "      <td>132</td>\n",
              "      <td>0</td>\n",
              "      <td>1.2</td>\n",
              "      <td>1</td>\n",
              "      <td>0</td>\n",
              "      <td>3</td>\n",
              "    </tr>\n",
              "    <tr>\n",
              "      <th>300</th>\n",
              "      <td>68</td>\n",
              "      <td>1</td>\n",
              "      <td>0</td>\n",
              "      <td>144</td>\n",
              "      <td>193</td>\n",
              "      <td>1</td>\n",
              "      <td>1</td>\n",
              "      <td>141</td>\n",
              "      <td>0</td>\n",
              "      <td>3.4</td>\n",
              "      <td>1</td>\n",
              "      <td>2</td>\n",
              "      <td>3</td>\n",
              "    </tr>\n",
              "    <tr>\n",
              "      <th>301</th>\n",
              "      <td>57</td>\n",
              "      <td>1</td>\n",
              "      <td>0</td>\n",
              "      <td>130</td>\n",
              "      <td>131</td>\n",
              "      <td>0</td>\n",
              "      <td>1</td>\n",
              "      <td>115</td>\n",
              "      <td>1</td>\n",
              "      <td>1.2</td>\n",
              "      <td>1</td>\n",
              "      <td>1</td>\n",
              "      <td>3</td>\n",
              "    </tr>\n",
              "    <tr>\n",
              "      <th>302</th>\n",
              "      <td>57</td>\n",
              "      <td>0</td>\n",
              "      <td>1</td>\n",
              "      <td>130</td>\n",
              "      <td>236</td>\n",
              "      <td>0</td>\n",
              "      <td>0</td>\n",
              "      <td>174</td>\n",
              "      <td>0</td>\n",
              "      <td>0.0</td>\n",
              "      <td>1</td>\n",
              "      <td>1</td>\n",
              "      <td>2</td>\n",
              "    </tr>\n",
              "  </tbody>\n",
              "</table>\n",
              "<p>303 rows × 13 columns</p>\n",
              "</div>"
            ],
            "text/plain": [
              "     age  sex  cp  trtbps  chol  fbs  ...  thalachh  exng  oldpeak  slp  caa  thall\n",
              "0     63    1   3     145   233    1  ...       150     0      2.3    0    0      1\n",
              "1     37    1   2     130   250    0  ...       187     0      3.5    0    0      2\n",
              "2     41    0   1     130   204    0  ...       172     0      1.4    2    0      2\n",
              "3     56    1   1     120   236    0  ...       178     0      0.8    2    0      2\n",
              "4     57    0   0     120   354    0  ...       163     1      0.6    2    0      2\n",
              "..   ...  ...  ..     ...   ...  ...  ...       ...   ...      ...  ...  ...    ...\n",
              "298   57    0   0     140   241    0  ...       123     1      0.2    1    0      3\n",
              "299   45    1   3     110   264    0  ...       132     0      1.2    1    0      3\n",
              "300   68    1   0     144   193    1  ...       141     0      3.4    1    2      3\n",
              "301   57    1   0     130   131    0  ...       115     1      1.2    1    1      3\n",
              "302   57    0   1     130   236    0  ...       174     0      0.0    1    1      2\n",
              "\n",
              "[303 rows x 13 columns]"
            ]
          },
          "metadata": {
            "tags": []
          },
          "execution_count": 25
        }
      ]
    },
    {
      "cell_type": "code",
      "metadata": {
        "id": "RxDjXj81Q_q9"
      },
      "source": [
        "f=X.columns"
      ],
      "execution_count": 26,
      "outputs": []
    },
    {
      "cell_type": "code",
      "metadata": {
        "id": "6UNGejr0RAVY"
      },
      "source": [
        "t=['1','2','3','4','5','6','7']"
      ],
      "execution_count": 27,
      "outputs": []
    },
    {
      "cell_type": "code",
      "metadata": {
        "id": "Y-Zpe3qLRFHZ"
      },
      "source": [
        "from sklearn import tree\n",
        "#df.drop(['Food'], axis = 1)\n",
        "#f=X.columns\n",
        "clf = tree.DecisionTreeClassifier(max_depth=3)\n",
        "clf = clf.fit(X, y)"
      ],
      "execution_count": 28,
      "outputs": []
    },
    {
      "cell_type": "code",
      "metadata": {
        "colab": {
          "base_uri": "https://localhost:8080/",
          "height": 618
        },
        "id": "Fwl74MayRKMg",
        "outputId": "1f4ceb40-dadf-424c-c60c-8e0391179b23"
      },
      "source": [
        "import graphviz\n",
        "import pydotplus\n",
        "dot_data = tree.export_graphviz(clf, out_file=None, \n",
        "                     feature_names=f,  \n",
        "                     class_names=t,  \n",
        "                     filled=True, rounded=True,special_characters=True)  \n",
        "graph = graphviz.Source(dot_data)  \n",
        "graph"
      ],
      "execution_count": 29,
      "outputs": [
        {
          "output_type": "execute_result",
          "data": {
            "text/plain": [
              "<graphviz.files.Source at 0x7f165d215dd0>"
            ],
            "image/svg+xml": "<?xml version=\"1.0\" encoding=\"UTF-8\" standalone=\"no\"?>\n<!DOCTYPE svg PUBLIC \"-//W3C//DTD SVG 1.1//EN\"\n \"http://www.w3.org/Graphics/SVG/1.1/DTD/svg11.dtd\">\n<!-- Generated by graphviz version 2.40.1 (20161225.0304)\n -->\n<!-- Title: Tree Pages: 1 -->\n<svg width=\"994pt\" height=\"433pt\"\n viewBox=\"0.00 0.00 993.50 433.00\" xmlns=\"http://www.w3.org/2000/svg\" xmlns:xlink=\"http://www.w3.org/1999/xlink\">\n<g id=\"graph0\" class=\"graph\" transform=\"scale(1 1) rotate(0) translate(4 429)\">\n<title>Tree</title>\n<polygon fill=\"#ffffff\" stroke=\"transparent\" points=\"-4,4 -4,-429 989.5,-429 989.5,4 -4,4\"/>\n<!-- 0 -->\n<g id=\"node1\" class=\"node\">\n<title>0</title>\n<path fill=\"#dfeffb\" stroke=\"#000000\" d=\"M527.5,-425C527.5,-425 419.5,-425 419.5,-425 413.5,-425 407.5,-419 407.5,-413 407.5,-413 407.5,-354 407.5,-354 407.5,-348 413.5,-342 419.5,-342 419.5,-342 527.5,-342 527.5,-342 533.5,-342 539.5,-348 539.5,-354 539.5,-354 539.5,-413 539.5,-413 539.5,-419 533.5,-425 527.5,-425\"/>\n<text text-anchor=\"start\" x=\"447.5\" y=\"-409.8\" font-family=\"Helvetica,sans-Serif\" font-size=\"14.00\" fill=\"#000000\">cp ≤ 0.5</text>\n<text text-anchor=\"start\" x=\"435.5\" y=\"-394.8\" font-family=\"Helvetica,sans-Serif\" font-size=\"14.00\" fill=\"#000000\">gini = 0.496</text>\n<text text-anchor=\"start\" x=\"425.5\" y=\"-379.8\" font-family=\"Helvetica,sans-Serif\" font-size=\"14.00\" fill=\"#000000\">samples = 303</text>\n<text text-anchor=\"start\" x=\"415.5\" y=\"-364.8\" font-family=\"Helvetica,sans-Serif\" font-size=\"14.00\" fill=\"#000000\">value = [138, 165]</text>\n<text text-anchor=\"start\" x=\"444.5\" y=\"-349.8\" font-family=\"Helvetica,sans-Serif\" font-size=\"14.00\" fill=\"#000000\">class = 2</text>\n</g>\n<!-- 1 -->\n<g id=\"node2\" class=\"node\">\n<title>1</title>\n<path fill=\"#efb083\" stroke=\"#000000\" d=\"M405.5,-306C405.5,-306 305.5,-306 305.5,-306 299.5,-306 293.5,-300 293.5,-294 293.5,-294 293.5,-235 293.5,-235 293.5,-229 299.5,-223 305.5,-223 305.5,-223 405.5,-223 405.5,-223 411.5,-223 417.5,-229 417.5,-235 417.5,-235 417.5,-294 417.5,-294 417.5,-300 411.5,-306 405.5,-306\"/>\n<text text-anchor=\"start\" x=\"325.5\" y=\"-290.8\" font-family=\"Helvetica,sans-Serif\" font-size=\"14.00\" fill=\"#000000\">caa ≤ 0.5</text>\n<text text-anchor=\"start\" x=\"317.5\" y=\"-275.8\" font-family=\"Helvetica,sans-Serif\" font-size=\"14.00\" fill=\"#000000\">gini = 0.397</text>\n<text text-anchor=\"start\" x=\"307.5\" y=\"-260.8\" font-family=\"Helvetica,sans-Serif\" font-size=\"14.00\" fill=\"#000000\">samples = 143</text>\n<text text-anchor=\"start\" x=\"301.5\" y=\"-245.8\" font-family=\"Helvetica,sans-Serif\" font-size=\"14.00\" fill=\"#000000\">value = [104, 39]</text>\n<text text-anchor=\"start\" x=\"326.5\" y=\"-230.8\" font-family=\"Helvetica,sans-Serif\" font-size=\"14.00\" fill=\"#000000\">class = 1</text>\n</g>\n<!-- 0&#45;&gt;1 -->\n<g id=\"edge1\" class=\"edge\">\n<title>0&#45;&gt;1</title>\n<path fill=\"none\" stroke=\"#000000\" d=\"M432.2293,-341.8796C423.1201,-332.6931 413.3892,-322.8798 404.0224,-313.4336\"/>\n<polygon fill=\"#000000\" stroke=\"#000000\" points=\"406.4733,-310.9345 396.9468,-306.2981 401.5027,-315.8634 406.4733,-310.9345\"/>\n<text text-anchor=\"middle\" x=\"396.8413\" y=\"-327.5978\" font-family=\"Helvetica,sans-Serif\" font-size=\"14.00\" fill=\"#000000\">True</text>\n</g>\n<!-- 8 -->\n<g id=\"node9\" class=\"node\">\n<title>8</title>\n<path fill=\"#6eb7ec\" stroke=\"#000000\" d=\"M652.5,-306C652.5,-306 552.5,-306 552.5,-306 546.5,-306 540.5,-300 540.5,-294 540.5,-294 540.5,-235 540.5,-235 540.5,-229 546.5,-223 552.5,-223 552.5,-223 652.5,-223 652.5,-223 658.5,-223 664.5,-229 664.5,-235 664.5,-235 664.5,-294 664.5,-294 664.5,-300 658.5,-306 652.5,-306\"/>\n<text text-anchor=\"start\" x=\"571.5\" y=\"-290.8\" font-family=\"Helvetica,sans-Serif\" font-size=\"14.00\" fill=\"#000000\">thall ≤ 2.5</text>\n<text text-anchor=\"start\" x=\"564.5\" y=\"-275.8\" font-family=\"Helvetica,sans-Serif\" font-size=\"14.00\" fill=\"#000000\">gini = 0.335</text>\n<text text-anchor=\"start\" x=\"554.5\" y=\"-260.8\" font-family=\"Helvetica,sans-Serif\" font-size=\"14.00\" fill=\"#000000\">samples = 160</text>\n<text text-anchor=\"start\" x=\"548.5\" y=\"-245.8\" font-family=\"Helvetica,sans-Serif\" font-size=\"14.00\" fill=\"#000000\">value = [34, 126]</text>\n<text text-anchor=\"start\" x=\"573.5\" y=\"-230.8\" font-family=\"Helvetica,sans-Serif\" font-size=\"14.00\" fill=\"#000000\">class = 2</text>\n</g>\n<!-- 0&#45;&gt;8 -->\n<g id=\"edge8\" class=\"edge\">\n<title>0&#45;&gt;8</title>\n<path fill=\"none\" stroke=\"#000000\" d=\"M518.6179,-341.8796C528.674,-332.6031 539.423,-322.6874 549.7554,-313.1559\"/>\n<polygon fill=\"#000000\" stroke=\"#000000\" points=\"552.2124,-315.6511 557.1895,-306.2981 547.4661,-310.506 552.2124,-315.6511\"/>\n<text text-anchor=\"middle\" x=\"556.1822\" y=\"-327.5778\" font-family=\"Helvetica,sans-Serif\" font-size=\"14.00\" fill=\"#000000\">False</text>\n</g>\n<!-- 2 -->\n<g id=\"node3\" class=\"node\">\n<title>2</title>\n<path fill=\"#eef6fd\" stroke=\"#000000\" d=\"M224.5,-187C224.5,-187 132.5,-187 132.5,-187 126.5,-187 120.5,-181 120.5,-175 120.5,-175 120.5,-116 120.5,-116 120.5,-110 126.5,-104 132.5,-104 132.5,-104 224.5,-104 224.5,-104 230.5,-104 236.5,-110 236.5,-116 236.5,-116 236.5,-175 236.5,-175 236.5,-181 230.5,-187 224.5,-187\"/>\n<text text-anchor=\"start\" x=\"147.5\" y=\"-171.8\" font-family=\"Helvetica,sans-Serif\" font-size=\"14.00\" fill=\"#000000\">thall ≤ 2.5</text>\n<text text-anchor=\"start\" x=\"140.5\" y=\"-156.8\" font-family=\"Helvetica,sans-Serif\" font-size=\"14.00\" fill=\"#000000\">gini = 0.499</text>\n<text text-anchor=\"start\" x=\"134.5\" y=\"-141.8\" font-family=\"Helvetica,sans-Serif\" font-size=\"14.00\" fill=\"#000000\">samples = 65</text>\n<text text-anchor=\"start\" x=\"128.5\" y=\"-126.8\" font-family=\"Helvetica,sans-Serif\" font-size=\"14.00\" fill=\"#000000\">value = [31, 34]</text>\n<text text-anchor=\"start\" x=\"149.5\" y=\"-111.8\" font-family=\"Helvetica,sans-Serif\" font-size=\"14.00\" fill=\"#000000\">class = 2</text>\n</g>\n<!-- 1&#45;&gt;2 -->\n<g id=\"edge2\" class=\"edge\">\n<title>1&#45;&gt;2</title>\n<path fill=\"none\" stroke=\"#000000\" d=\"M293.594,-222.8796C277.9488,-212.361 261.0811,-201.0207 245.2104,-190.3505\"/>\n<polygon fill=\"#000000\" stroke=\"#000000\" points=\"246.7617,-187.176 236.51,-184.5011 242.856,-192.9851 246.7617,-187.176\"/>\n</g>\n<!-- 5 -->\n<g id=\"node6\" class=\"node\">\n<title>5</title>\n<path fill=\"#e78a47\" stroke=\"#000000\" d=\"M397,-187C397,-187 314,-187 314,-187 308,-187 302,-181 302,-175 302,-175 302,-116 302,-116 302,-110 308,-104 314,-104 314,-104 397,-104 397,-104 403,-104 409,-110 409,-116 409,-116 409,-175 409,-175 409,-181 403,-187 397,-187\"/>\n<text text-anchor=\"start\" x=\"311.5\" y=\"-171.8\" font-family=\"Helvetica,sans-Serif\" font-size=\"14.00\" fill=\"#000000\">trtbps ≤ 109.0</text>\n<text text-anchor=\"start\" x=\"322\" y=\"-156.8\" font-family=\"Helvetica,sans-Serif\" font-size=\"14.00\" fill=\"#000000\">gini = 0.12</text>\n<text text-anchor=\"start\" x=\"311.5\" y=\"-141.8\" font-family=\"Helvetica,sans-Serif\" font-size=\"14.00\" fill=\"#000000\">samples = 78</text>\n<text text-anchor=\"start\" x=\"310\" y=\"-126.8\" font-family=\"Helvetica,sans-Serif\" font-size=\"14.00\" fill=\"#000000\">value = [73, 5]</text>\n<text text-anchor=\"start\" x=\"326.5\" y=\"-111.8\" font-family=\"Helvetica,sans-Serif\" font-size=\"14.00\" fill=\"#000000\">class = 1</text>\n</g>\n<!-- 1&#45;&gt;5 -->\n<g id=\"edge5\" class=\"edge\">\n<title>1&#45;&gt;5</title>\n<path fill=\"none\" stroke=\"#000000\" d=\"M355.5,-222.8796C355.5,-214.6838 355.5,-205.9891 355.5,-197.5013\"/>\n<polygon fill=\"#000000\" stroke=\"#000000\" points=\"359.0001,-197.298 355.5,-187.2981 352.0001,-197.2981 359.0001,-197.298\"/>\n</g>\n<!-- 3 -->\n<g id=\"node4\" class=\"node\">\n<title>3</title>\n<path fill=\"#76bbed\" stroke=\"#000000\" d=\"M95,-68C95,-68 12,-68 12,-68 6,-68 0,-62 0,-56 0,-56 0,-12 0,-12 0,-6 6,0 12,0 12,0 95,0 95,0 101,0 107,-6 107,-12 107,-12 107,-56 107,-56 107,-62 101,-68 95,-68\"/>\n<text text-anchor=\"start\" x=\"15.5\" y=\"-52.8\" font-family=\"Helvetica,sans-Serif\" font-size=\"14.00\" fill=\"#000000\">gini = 0.361</text>\n<text text-anchor=\"start\" x=\"9.5\" y=\"-37.8\" font-family=\"Helvetica,sans-Serif\" font-size=\"14.00\" fill=\"#000000\">samples = 38</text>\n<text text-anchor=\"start\" x=\"8\" y=\"-22.8\" font-family=\"Helvetica,sans-Serif\" font-size=\"14.00\" fill=\"#000000\">value = [9, 29]</text>\n<text text-anchor=\"start\" x=\"24.5\" y=\"-7.8\" font-family=\"Helvetica,sans-Serif\" font-size=\"14.00\" fill=\"#000000\">class = 2</text>\n</g>\n<!-- 2&#45;&gt;3 -->\n<g id=\"edge3\" class=\"edge\">\n<title>2&#45;&gt;3</title>\n<path fill=\"none\" stroke=\"#000000\" d=\"M131.9546,-103.9815C121.3421,-94.5151 110.0718,-84.462 99.4829,-75.0168\"/>\n<polygon fill=\"#000000\" stroke=\"#000000\" points=\"101.7046,-72.3084 91.9122,-68.2637 97.0449,-77.5322 101.7046,-72.3084\"/>\n</g>\n<!-- 4 -->\n<g id=\"node5\" class=\"node\">\n<title>4</title>\n<path fill=\"#eb9e66\" stroke=\"#000000\" d=\"M220,-68C220,-68 137,-68 137,-68 131,-68 125,-62 125,-56 125,-56 125,-12 125,-12 125,-6 131,0 137,0 137,0 220,0 220,0 226,0 232,-6 232,-12 232,-12 232,-56 232,-56 232,-62 226,-68 220,-68\"/>\n<text text-anchor=\"start\" x=\"140.5\" y=\"-52.8\" font-family=\"Helvetica,sans-Serif\" font-size=\"14.00\" fill=\"#000000\">gini = 0.302</text>\n<text text-anchor=\"start\" x=\"134.5\" y=\"-37.8\" font-family=\"Helvetica,sans-Serif\" font-size=\"14.00\" fill=\"#000000\">samples = 27</text>\n<text text-anchor=\"start\" x=\"133\" y=\"-22.8\" font-family=\"Helvetica,sans-Serif\" font-size=\"14.00\" fill=\"#000000\">value = [22, 5]</text>\n<text text-anchor=\"start\" x=\"149.5\" y=\"-7.8\" font-family=\"Helvetica,sans-Serif\" font-size=\"14.00\" fill=\"#000000\">class = 1</text>\n</g>\n<!-- 2&#45;&gt;4 -->\n<g id=\"edge4\" class=\"edge\">\n<title>2&#45;&gt;4</title>\n<path fill=\"none\" stroke=\"#000000\" d=\"M178.5,-103.9815C178.5,-95.618 178.5,-86.7965 178.5,-78.3409\"/>\n<polygon fill=\"#000000\" stroke=\"#000000\" points=\"182.0001,-78.2636 178.5,-68.2637 175.0001,-78.2637 182.0001,-78.2636\"/>\n</g>\n<!-- 6 -->\n<g id=\"node7\" class=\"node\">\n<title>6</title>\n<path fill=\"#f6d5bd\" stroke=\"#000000\" d=\"M337,-68C337,-68 262,-68 262,-68 256,-68 250,-62 250,-56 250,-56 250,-12 250,-12 250,-6 256,0 262,0 262,0 337,0 337,0 343,0 349,-6 349,-12 349,-12 349,-56 349,-56 349,-62 343,-68 337,-68\"/>\n<text text-anchor=\"start\" x=\"266\" y=\"-52.8\" font-family=\"Helvetica,sans-Serif\" font-size=\"14.00\" fill=\"#000000\">gini = 0.48</text>\n<text text-anchor=\"start\" x=\"260\" y=\"-37.8\" font-family=\"Helvetica,sans-Serif\" font-size=\"14.00\" fill=\"#000000\">samples = 5</text>\n<text text-anchor=\"start\" x=\"258\" y=\"-22.8\" font-family=\"Helvetica,sans-Serif\" font-size=\"14.00\" fill=\"#000000\">value = [3, 2]</text>\n<text text-anchor=\"start\" x=\"270.5\" y=\"-7.8\" font-family=\"Helvetica,sans-Serif\" font-size=\"14.00\" fill=\"#000000\">class = 1</text>\n</g>\n<!-- 5&#45;&gt;6 -->\n<g id=\"edge6\" class=\"edge\">\n<title>5&#45;&gt;6</title>\n<path fill=\"none\" stroke=\"#000000\" d=\"M334.6477,-103.9815C330.2625,-95.2504 325.6267,-86.0202 321.211,-77.2281\"/>\n<polygon fill=\"#000000\" stroke=\"#000000\" points=\"324.3246,-75.6291 316.7087,-68.2637 318.0692,-78.7708 324.3246,-75.6291\"/>\n</g>\n<!-- 7 -->\n<g id=\"node8\" class=\"node\">\n<title>7</title>\n<path fill=\"#e68641\" stroke=\"#000000\" d=\"M462,-68C462,-68 379,-68 379,-68 373,-68 367,-62 367,-56 367,-56 367,-12 367,-12 367,-6 373,0 379,0 379,0 462,0 462,0 468,0 474,-6 474,-12 474,-12 474,-56 474,-56 474,-62 468,-68 462,-68\"/>\n<text text-anchor=\"start\" x=\"382.5\" y=\"-52.8\" font-family=\"Helvetica,sans-Serif\" font-size=\"14.00\" fill=\"#000000\">gini = 0.079</text>\n<text text-anchor=\"start\" x=\"376.5\" y=\"-37.8\" font-family=\"Helvetica,sans-Serif\" font-size=\"14.00\" fill=\"#000000\">samples = 73</text>\n<text text-anchor=\"start\" x=\"375\" y=\"-22.8\" font-family=\"Helvetica,sans-Serif\" font-size=\"14.00\" fill=\"#000000\">value = [70, 3]</text>\n<text text-anchor=\"start\" x=\"391.5\" y=\"-7.8\" font-family=\"Helvetica,sans-Serif\" font-size=\"14.00\" fill=\"#000000\">class = 1</text>\n</g>\n<!-- 5&#45;&gt;7 -->\n<g id=\"edge7\" class=\"edge\">\n<title>5&#45;&gt;7</title>\n<path fill=\"none\" stroke=\"#000000\" d=\"M379.7036,-103.9815C384.8471,-95.1585 390.2877,-85.8258 395.4616,-76.9506\"/>\n<polygon fill=\"#000000\" stroke=\"#000000\" points=\"398.513,-78.6656 400.5257,-68.2637 392.4656,-75.1402 398.513,-78.6656\"/>\n</g>\n<!-- 9 -->\n<g id=\"node10\" class=\"node\">\n<title>9</title>\n<path fill=\"#57ace9\" stroke=\"#000000\" d=\"M652.5,-187C652.5,-187 552.5,-187 552.5,-187 546.5,-187 540.5,-181 540.5,-175 540.5,-175 540.5,-116 540.5,-116 540.5,-110 546.5,-104 552.5,-104 552.5,-104 652.5,-104 652.5,-104 658.5,-104 664.5,-110 664.5,-116 664.5,-116 664.5,-175 664.5,-175 664.5,-181 658.5,-187 652.5,-187\"/>\n<text text-anchor=\"start\" x=\"568\" y=\"-171.8\" font-family=\"Helvetica,sans-Serif\" font-size=\"14.00\" fill=\"#000000\">age ≤ 55.5</text>\n<text text-anchor=\"start\" x=\"564.5\" y=\"-156.8\" font-family=\"Helvetica,sans-Serif\" font-size=\"14.00\" fill=\"#000000\">gini = 0.229</text>\n<text text-anchor=\"start\" x=\"554.5\" y=\"-141.8\" font-family=\"Helvetica,sans-Serif\" font-size=\"14.00\" fill=\"#000000\">samples = 121</text>\n<text text-anchor=\"start\" x=\"548.5\" y=\"-126.8\" font-family=\"Helvetica,sans-Serif\" font-size=\"14.00\" fill=\"#000000\">value = [16, 105]</text>\n<text text-anchor=\"start\" x=\"573.5\" y=\"-111.8\" font-family=\"Helvetica,sans-Serif\" font-size=\"14.00\" fill=\"#000000\">class = 2</text>\n</g>\n<!-- 8&#45;&gt;9 -->\n<g id=\"edge9\" class=\"edge\">\n<title>8&#45;&gt;9</title>\n<path fill=\"none\" stroke=\"#000000\" d=\"M602.5,-222.8796C602.5,-214.6838 602.5,-205.9891 602.5,-197.5013\"/>\n<polygon fill=\"#000000\" stroke=\"#000000\" points=\"606.0001,-197.298 602.5,-187.2981 599.0001,-197.2981 606.0001,-197.298\"/>\n</g>\n<!-- 12 -->\n<g id=\"node13\" class=\"node\">\n<title>12</title>\n<path fill=\"#e3f1fb\" stroke=\"#000000\" d=\"M851.5,-187C851.5,-187 751.5,-187 751.5,-187 745.5,-187 739.5,-181 739.5,-175 739.5,-175 739.5,-116 739.5,-116 739.5,-110 745.5,-104 751.5,-104 751.5,-104 851.5,-104 851.5,-104 857.5,-104 863.5,-110 863.5,-116 863.5,-116 863.5,-175 863.5,-175 863.5,-181 857.5,-187 851.5,-187\"/>\n<text text-anchor=\"start\" x=\"747.5\" y=\"-171.8\" font-family=\"Helvetica,sans-Serif\" font-size=\"14.00\" fill=\"#000000\">thalachh ≤ 142.5</text>\n<text text-anchor=\"start\" x=\"763.5\" y=\"-156.8\" font-family=\"Helvetica,sans-Serif\" font-size=\"14.00\" fill=\"#000000\">gini = 0.497</text>\n<text text-anchor=\"start\" x=\"757.5\" y=\"-141.8\" font-family=\"Helvetica,sans-Serif\" font-size=\"14.00\" fill=\"#000000\">samples = 39</text>\n<text text-anchor=\"start\" x=\"751.5\" y=\"-126.8\" font-family=\"Helvetica,sans-Serif\" font-size=\"14.00\" fill=\"#000000\">value = [18, 21]</text>\n<text text-anchor=\"start\" x=\"772.5\" y=\"-111.8\" font-family=\"Helvetica,sans-Serif\" font-size=\"14.00\" fill=\"#000000\">class = 2</text>\n</g>\n<!-- 8&#45;&gt;12 -->\n<g id=\"edge12\" class=\"edge\">\n<title>8&#45;&gt;12</title>\n<path fill=\"none\" stroke=\"#000000\" d=\"M664.6463,-227.3371C685.5946,-214.8103 709.127,-200.7381 730.693,-187.8419\"/>\n<polygon fill=\"#000000\" stroke=\"#000000\" points=\"732.6967,-190.7218 739.483,-182.5856 729.1041,-184.714 732.6967,-190.7218\"/>\n</g>\n<!-- 10 -->\n<g id=\"node11\" class=\"node\">\n<title>10</title>\n<path fill=\"#41a1e6\" stroke=\"#000000\" d=\"M587,-68C587,-68 504,-68 504,-68 498,-68 492,-62 492,-56 492,-56 492,-12 492,-12 492,-6 498,0 504,0 504,0 587,0 587,0 593,0 599,-6 599,-12 599,-12 599,-56 599,-56 599,-62 593,-68 587,-68\"/>\n<text text-anchor=\"start\" x=\"507.5\" y=\"-52.8\" font-family=\"Helvetica,sans-Serif\" font-size=\"14.00\" fill=\"#000000\">gini = 0.076</text>\n<text text-anchor=\"start\" x=\"501.5\" y=\"-37.8\" font-family=\"Helvetica,sans-Serif\" font-size=\"14.00\" fill=\"#000000\">samples = 76</text>\n<text text-anchor=\"start\" x=\"500\" y=\"-22.8\" font-family=\"Helvetica,sans-Serif\" font-size=\"14.00\" fill=\"#000000\">value = [3, 73]</text>\n<text text-anchor=\"start\" x=\"516.5\" y=\"-7.8\" font-family=\"Helvetica,sans-Serif\" font-size=\"14.00\" fill=\"#000000\">class = 2</text>\n</g>\n<!-- 9&#45;&gt;10 -->\n<g id=\"edge10\" class=\"edge\">\n<title>9&#45;&gt;10</title>\n<path fill=\"none\" stroke=\"#000000\" d=\"M581.2753,-103.9815C576.8119,-95.2504 572.0933,-86.0202 567.5987,-77.2281\"/>\n<polygon fill=\"#000000\" stroke=\"#000000\" points=\"570.6842,-75.5745 563.016,-68.2637 564.4514,-78.7608 570.6842,-75.5745\"/>\n</g>\n<!-- 11 -->\n<g id=\"node12\" class=\"node\">\n<title>11</title>\n<path fill=\"#89c5f0\" stroke=\"#000000\" d=\"M721.5,-68C721.5,-68 629.5,-68 629.5,-68 623.5,-68 617.5,-62 617.5,-56 617.5,-56 617.5,-12 617.5,-12 617.5,-6 623.5,0 629.5,0 629.5,0 721.5,0 721.5,0 727.5,0 733.5,-6 733.5,-12 733.5,-12 733.5,-56 733.5,-56 733.5,-62 727.5,-68 721.5,-68\"/>\n<text text-anchor=\"start\" x=\"637.5\" y=\"-52.8\" font-family=\"Helvetica,sans-Serif\" font-size=\"14.00\" fill=\"#000000\">gini = 0.411</text>\n<text text-anchor=\"start\" x=\"631.5\" y=\"-37.8\" font-family=\"Helvetica,sans-Serif\" font-size=\"14.00\" fill=\"#000000\">samples = 45</text>\n<text text-anchor=\"start\" x=\"625.5\" y=\"-22.8\" font-family=\"Helvetica,sans-Serif\" font-size=\"14.00\" fill=\"#000000\">value = [13, 32]</text>\n<text text-anchor=\"start\" x=\"646.5\" y=\"-7.8\" font-family=\"Helvetica,sans-Serif\" font-size=\"14.00\" fill=\"#000000\">class = 2</text>\n</g>\n<!-- 9&#45;&gt;11 -->\n<g id=\"edge11\" class=\"edge\">\n<title>9&#45;&gt;11</title>\n<path fill=\"none\" stroke=\"#000000\" d=\"M629.6825,-103.9815C635.5192,-95.0666 641.6966,-85.6313 647.5614,-76.6734\"/>\n<polygon fill=\"#000000\" stroke=\"#000000\" points=\"650.5179,-78.5472 653.0673,-68.2637 644.6614,-74.7129 650.5179,-78.5472\"/>\n</g>\n<!-- 13 -->\n<g id=\"node14\" class=\"node\">\n<title>13</title>\n<path fill=\"#e99355\" stroke=\"#000000\" d=\"M839,-68C839,-68 764,-68 764,-68 758,-68 752,-62 752,-56 752,-56 752,-12 752,-12 752,-6 758,0 764,0 764,0 839,0 839,0 845,0 851,-6 851,-12 851,-12 851,-56 851,-56 851,-62 845,-68 839,-68\"/>\n<text text-anchor=\"start\" x=\"763.5\" y=\"-52.8\" font-family=\"Helvetica,sans-Serif\" font-size=\"14.00\" fill=\"#000000\">gini = 0.219</text>\n<text text-anchor=\"start\" x=\"762\" y=\"-37.8\" font-family=\"Helvetica,sans-Serif\" font-size=\"14.00\" fill=\"#000000\">samples = 8</text>\n<text text-anchor=\"start\" x=\"760\" y=\"-22.8\" font-family=\"Helvetica,sans-Serif\" font-size=\"14.00\" fill=\"#000000\">value = [7, 1]</text>\n<text text-anchor=\"start\" x=\"772.5\" y=\"-7.8\" font-family=\"Helvetica,sans-Serif\" font-size=\"14.00\" fill=\"#000000\">class = 1</text>\n</g>\n<!-- 12&#45;&gt;13 -->\n<g id=\"edge13\" class=\"edge\">\n<title>12&#45;&gt;13</title>\n<path fill=\"none\" stroke=\"#000000\" d=\"M801.5,-103.9815C801.5,-95.618 801.5,-86.7965 801.5,-78.3409\"/>\n<polygon fill=\"#000000\" stroke=\"#000000\" points=\"805.0001,-78.2636 801.5,-68.2637 798.0001,-78.2637 805.0001,-78.2636\"/>\n</g>\n<!-- 14 -->\n<g id=\"node15\" class=\"node\">\n<title>14</title>\n<path fill=\"#a6d3f3\" stroke=\"#000000\" d=\"M973.5,-68C973.5,-68 881.5,-68 881.5,-68 875.5,-68 869.5,-62 869.5,-56 869.5,-56 869.5,-12 869.5,-12 869.5,-6 875.5,0 881.5,0 881.5,0 973.5,0 973.5,0 979.5,0 985.5,-6 985.5,-12 985.5,-12 985.5,-56 985.5,-56 985.5,-62 979.5,-68 973.5,-68\"/>\n<text text-anchor=\"start\" x=\"889.5\" y=\"-52.8\" font-family=\"Helvetica,sans-Serif\" font-size=\"14.00\" fill=\"#000000\">gini = 0.458</text>\n<text text-anchor=\"start\" x=\"883.5\" y=\"-37.8\" font-family=\"Helvetica,sans-Serif\" font-size=\"14.00\" fill=\"#000000\">samples = 31</text>\n<text text-anchor=\"start\" x=\"877.5\" y=\"-22.8\" font-family=\"Helvetica,sans-Serif\" font-size=\"14.00\" fill=\"#000000\">value = [11, 20]</text>\n<text text-anchor=\"start\" x=\"898.5\" y=\"-7.8\" font-family=\"Helvetica,sans-Serif\" font-size=\"14.00\" fill=\"#000000\">class = 2</text>\n</g>\n<!-- 12&#45;&gt;14 -->\n<g id=\"edge14\" class=\"edge\">\n<title>12&#45;&gt;14</title>\n<path fill=\"none\" stroke=\"#000000\" d=\"M848.4177,-103.9815C859.1152,-94.5151 870.4756,-84.462 881.1492,-75.0168\"/>\n<polygon fill=\"#000000\" stroke=\"#000000\" points=\"883.6111,-77.5118 888.7805,-68.2637 878.9722,-72.2696 883.6111,-77.5118\"/>\n</g>\n</g>\n</svg>\n"
          },
          "metadata": {
            "tags": []
          },
          "execution_count": 29
        }
      ]
    }
  ]
}